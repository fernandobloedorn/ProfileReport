{
  "nbformat": 4,
  "nbformat_minor": 0,
  "metadata": {
    "colab": {
      "name": "ProfileReport.ipynb",
      "provenance": [],
      "authorship_tag": "ABX9TyNmoe+nnTgSX4QRfT1QANFM",
      "include_colab_link": true
    },
    "kernelspec": {
      "name": "python3",
      "display_name": "Python 3"
    }
  },
  "cells": [
    {
      "cell_type": "markdown",
      "metadata": {
        "id": "view-in-github",
        "colab_type": "text"
      },
      "source": [
        "<a href=\"https://colab.research.google.com/github/fernandobloedorn/ProfileReport/blob/main/ProfileReport.ipynb\" target=\"_parent\"><img src=\"https://colab.research.google.com/assets/colab-badge.svg\" alt=\"Open In Colab\"/></a>"
      ]
    },
    {
      "cell_type": "code",
      "metadata": {
        "id": "CBfKV_FLHMno"
      },
      "source": [
        "!pip install pandas==0.25"
      ],
      "execution_count": null,
      "outputs": []
    },
    {
      "cell_type": "code",
      "metadata": {
        "id": "_up5qZNtHa7Q"
      },
      "source": [
        "import pandas as pd\n",
        "pd.__version__"
      ],
      "execution_count": null,
      "outputs": []
    },
    {
      "cell_type": "code",
      "metadata": {
        "id": "082kABijHq06"
      },
      "source": [
        "df = pd.read_csv('sample_data/Brazilian_Ecommerce.csv')"
      ],
      "execution_count": 2,
      "outputs": []
    },
    {
      "cell_type": "code",
      "metadata": {
        "id": "lE8X_2pKH33c"
      },
      "source": [
        "import pandas_profiling as pp \n",
        "profile = pp.ProfileReport(df)"
      ],
      "execution_count": null,
      "outputs": []
    },
    {
      "cell_type": "code",
      "metadata": {
        "id": "yyw-UasJKHJr"
      },
      "source": [
        "profile.to_file(\"sample_data/output.html\")"
      ],
      "execution_count": 4,
      "outputs": []
    },
    {
      "cell_type": "code",
      "metadata": {
        "id": "r_SwW7ohiN9n"
      },
      "source": [
        "profile"
      ],
      "execution_count": null,
      "outputs": []
    }
  ]
}